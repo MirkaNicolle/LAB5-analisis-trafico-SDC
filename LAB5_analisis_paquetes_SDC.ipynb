{
  "nbformat": 4,
  "nbformat_minor": 0,
  "metadata": {
    "colab": {
      "provenance": [],
      "authorship_tag": "ABX9TyNgMgWMvlHIPi4I9zBhcana"
    },
    "kernelspec": {
      "name": "python3",
      "display_name": "Python 3"
    },
    "language_info": {
      "name": "python"
    }
  },
  "cells": [
    {
      "cell_type": "markdown",
      "source": [
        "# Laboratorio #5 – Análisis de tráfico, implementación de un IDS"
      ],
      "metadata": {
        "id": "MTlnH8PtNmiR"
      }
    },
    {
      "cell_type": "markdown",
      "source": [
        "\n",
        "\n",
        "### 0. Analisis de paquetes scapy"
      ],
      "metadata": {
        "id": "5LU3_eXNWREJ"
      }
    },
    {
      "cell_type": "markdown",
      "source": [
        "#### Importacion de librerias"
      ],
      "metadata": {
        "id": "nqvOjXC7W4ph"
      }
    },
    {
      "cell_type": "code",
      "execution_count": 1,
      "metadata": {
        "colab": {
          "base_uri": "https://localhost:8080/"
        },
        "id": "uWM6TjX3Mzri",
        "outputId": "6e11099c-8c0b-433f-dc4e-6d3a3d3de0b3"
      },
      "outputs": [
        {
          "output_type": "stream",
          "name": "stdout",
          "text": [
            "Looking in indexes: https://pypi.org/simple, https://us-python.pkg.dev/colab-wheels/public/simple/\n",
            "Collecting scapy\n",
            "  Downloading scapy-2.5.0.tar.gz (1.3 MB)\n",
            "\u001b[2K     \u001b[90m━━━━━━━━━━━━━━━━━━━━━━━━━━━━━━━━━━━━━━━━\u001b[0m \u001b[32m1.3/1.3 MB\u001b[0m \u001b[31m19.0 MB/s\u001b[0m eta \u001b[36m0:00:00\u001b[0m\n",
            "\u001b[?25h  Preparing metadata (setup.py) ... \u001b[?25l\u001b[?25hdone\n",
            "Building wheels for collected packages: scapy\n",
            "  Building wheel for scapy (setup.py) ... \u001b[?25l\u001b[?25hdone\n",
            "  Created wheel for scapy: filename=scapy-2.5.0-py2.py3-none-any.whl size=1444345 sha256=a0cdb26d22ad0ed19cab565878d6737382d3d10dcd00313adcf0fe503beb44b1\n",
            "  Stored in directory: /root/.cache/pip/wheels/dd/1b/47/d46b1a87e339be501612cf4cd1bf57742e534f9c9aac7b00d6\n",
            "Successfully built scapy\n",
            "Installing collected packages: scapy\n",
            "Successfully installed scapy-2.5.0\n"
          ]
        }
      ],
      "source": [
        "!pip install scapy"
      ]
    },
    {
      "cell_type": "code",
      "source": [
        "import pandas as pd\n",
        "import numpy as np \n",
        "import binascii\n",
        "import seaborn as sns\n",
        "\n",
        "from scapy.all import *"
      ],
      "metadata": {
        "id": "Jua15LDOXmX9"
      },
      "execution_count": 2,
      "outputs": []
    },
    {
      "cell_type": "code",
      "source": [
        "sns.set(color_codes=True)\n",
        "%matplotlib inline"
      ],
      "metadata": {
        "id": "AmpfcDGxXz8c"
      },
      "execution_count": 3,
      "outputs": []
    },
    {
      "cell_type": "markdown",
      "source": [
        "### Captura de paquetes"
      ],
      "metadata": {
        "id": "Iqgl2GH0aKJO"
      }
    },
    {
      "cell_type": "code",
      "source": [
        "num = 100\n",
        "pcap = sniff(count=num)\n",
        "\n",
        "print(type(pcap))\n",
        "print(len(pcap))\n",
        "print(pcap)\n",
        "pcap[0]\n"
      ],
      "metadata": {
        "colab": {
          "base_uri": "https://localhost:8080/"
        },
        "id": "r75sXhBGfysb",
        "outputId": "4905a569-4311-4242-b624-7a18c48444bf"
      },
      "execution_count": 4,
      "outputs": [
        {
          "output_type": "stream",
          "name": "stdout",
          "text": [
            "<class 'scapy.plist.PacketList'>\n",
            "100\n",
            "<Sniffed: TCP:100 UDP:0 ICMP:0 Other:0>\n"
          ]
        },
        {
          "output_type": "execute_result",
          "data": {
            "text/plain": [
              "<Ether  dst=02:42:ac:1c:00:0c src=02:42:81:d6:dd:bc type=IPv4 |<IP  version=4 ihl=5 tos=0x0 len=522 id=39575 flags=DF frag=0 ttl=64 proto=6 chksum=0x4611 src=172.28.0.1 dst=172.28.0.12 |<TCP  sport=34096 dport=8080 seq=3178069003 ack=3959747405 dataofs=8 reserved=0 flags=PA window=501 chksum=0x5a42 urgptr=0 options=[('NOP', None), ('NOP', None), ('Timestamp', (937786900, 3639753796))] |<Raw  load='GET /socket.io/?EIO=3&sid=R_PmmLqmwiabq0EaAAAA&t=OU89SGQ&transport=polling HTTP/1.1\\r\\nHost: colab.research.google.com\\r\\nUser-Agent: Mozilla/5.0 (Windows NT 10.0; Win64; x64; rv:109.0) Gecko/20100101 Firefox/111.0,gzip(gfe)\\r\\nAccept: */*\\r\\nAccept-Encoding: gzip, deflate, br,gzip(gfe)\\r\\nAccept-Language: es-ES,es;q=0.8,en-US;q=0.5,en;q=0.3\\r\\nReferer: https://colab.research.google.com/\\r\\nSec-Fetch-Dest: empty\\r\\nSec-Fetch-Mode: cors\\r\\nSec-Fetch-Site: same-origin\\r\\nTe: trailers\\r\\n\\r\\n' |>>>>"
            ]
          },
          "metadata": {},
          "execution_count": 4
        }
      ]
    },
    {
      "cell_type": "markdown",
      "source": [
        "### informacion de paquetes capturados"
      ],
      "metadata": {
        "id": "AmXjLFGZl6-H"
      }
    },
    {
      "cell_type": "code",
      "source": [
        "#informacion\n",
        "e_frame = pcap[0]\n",
        "ip_paquete = e_frame.payload\n",
        "segmento = ip_paquete.payload\n",
        "data = segmento.payload\n",
        "\n",
        "print(\"Ethernet frame:\")\n",
        "print(e_frame.show())\n",
        "print()\n",
        "\n",
        "print(\"Paquete:\")\n",
        "print(ip_paquete.show())\n",
        "print()\n",
        "\n",
        "print(\"Segmento:\")\n",
        "print(segmento.show())\n",
        "print()\n",
        "\n",
        "print(\"Data:\")\n",
        "print(data.show())\n",
        "print()"
      ],
      "metadata": {
        "colab": {
          "base_uri": "https://localhost:8080/"
        },
        "id": "TEiUozp7l1bK",
        "outputId": "77a41216-9c7c-4827-c97e-afecbbabbb14"
      },
      "execution_count": 6,
      "outputs": [
        {
          "output_type": "stream",
          "name": "stdout",
          "text": [
            "Ethernet frame:\n",
            "###[ Ethernet ]### \n",
            "  dst       = 02:42:ac:1c:00:0c\n",
            "  src       = 02:42:81:d6:dd:bc\n",
            "  type      = IPv4\n",
            "###[ IP ]### \n",
            "     version   = 4\n",
            "     ihl       = 5\n",
            "     tos       = 0x0\n",
            "     len       = 522\n",
            "     id        = 39575\n",
            "     flags     = DF\n",
            "     frag      = 0\n",
            "     ttl       = 64\n",
            "     proto     = 6\n",
            "     chksum    = 0x4611\n",
            "     src       = 172.28.0.1\n",
            "     dst       = 172.28.0.12\n",
            "     \\options   \\\n",
            "###[ TCP ]### \n",
            "        sport     = 34096\n",
            "        dport     = 8080\n",
            "        seq       = 3178069003\n",
            "        ack       = 3959747405\n",
            "        dataofs   = 8\n",
            "        reserved  = 0\n",
            "        flags     = PA\n",
            "        window    = 501\n",
            "        chksum    = 0x5a42\n",
            "        urgptr    = 0\n",
            "        options   = [('NOP', None), ('NOP', None), ('Timestamp', (937786900, 3639753796))]\n",
            "###[ Raw ]### \n",
            "           load      = 'GET /socket.io/?EIO=3&sid=R_PmmLqmwiabq0EaAAAA&t=OU89SGQ&transport=polling HTTP/1.1\\r\\nHost: colab.research.google.com\\r\\nUser-Agent: Mozilla/5.0 (Windows NT 10.0; Win64; x64; rv:109.0) Gecko/20100101 Firefox/111.0,gzip(gfe)\\r\\nAccept: */*\\r\\nAccept-Encoding: gzip, deflate, br,gzip(gfe)\\r\\nAccept-Language: es-ES,es;q=0.8,en-US;q=0.5,en;q=0.3\\r\\nReferer: https://colab.research.google.com/\\r\\nSec-Fetch-Dest: empty\\r\\nSec-Fetch-Mode: cors\\r\\nSec-Fetch-Site: same-origin\\r\\nTe: trailers\\r\\n\\r\\n'\n",
            "\n",
            "None\n",
            "\n",
            "Paquete:\n",
            "###[ IP ]### \n",
            "  version   = 4\n",
            "  ihl       = 5\n",
            "  tos       = 0x0\n",
            "  len       = 522\n",
            "  id        = 39575\n",
            "  flags     = DF\n",
            "  frag      = 0\n",
            "  ttl       = 64\n",
            "  proto     = 6\n",
            "  chksum    = 0x4611\n",
            "  src       = 172.28.0.1\n",
            "  dst       = 172.28.0.12\n",
            "  \\options   \\\n",
            "###[ TCP ]### \n",
            "     sport     = 34096\n",
            "     dport     = 8080\n",
            "     seq       = 3178069003\n",
            "     ack       = 3959747405\n",
            "     dataofs   = 8\n",
            "     reserved  = 0\n",
            "     flags     = PA\n",
            "     window    = 501\n",
            "     chksum    = 0x5a42\n",
            "     urgptr    = 0\n",
            "     options   = [('NOP', None), ('NOP', None), ('Timestamp', (937786900, 3639753796))]\n",
            "###[ Raw ]### \n",
            "        load      = 'GET /socket.io/?EIO=3&sid=R_PmmLqmwiabq0EaAAAA&t=OU89SGQ&transport=polling HTTP/1.1\\r\\nHost: colab.research.google.com\\r\\nUser-Agent: Mozilla/5.0 (Windows NT 10.0; Win64; x64; rv:109.0) Gecko/20100101 Firefox/111.0,gzip(gfe)\\r\\nAccept: */*\\r\\nAccept-Encoding: gzip, deflate, br,gzip(gfe)\\r\\nAccept-Language: es-ES,es;q=0.8,en-US;q=0.5,en;q=0.3\\r\\nReferer: https://colab.research.google.com/\\r\\nSec-Fetch-Dest: empty\\r\\nSec-Fetch-Mode: cors\\r\\nSec-Fetch-Site: same-origin\\r\\nTe: trailers\\r\\n\\r\\n'\n",
            "\n",
            "None\n",
            "\n",
            "Segmento:\n",
            "###[ TCP ]### \n",
            "  sport     = 34096\n",
            "  dport     = 8080\n",
            "  seq       = 3178069003\n",
            "  ack       = 3959747405\n",
            "  dataofs   = 8\n",
            "  reserved  = 0\n",
            "  flags     = PA\n",
            "  window    = 501\n",
            "  chksum    = 0x5a42\n",
            "  urgptr    = 0\n",
            "  options   = [('NOP', None), ('NOP', None), ('Timestamp', (937786900, 3639753796))]\n",
            "###[ Raw ]### \n",
            "     load      = 'GET /socket.io/?EIO=3&sid=R_PmmLqmwiabq0EaAAAA&t=OU89SGQ&transport=polling HTTP/1.1\\r\\nHost: colab.research.google.com\\r\\nUser-Agent: Mozilla/5.0 (Windows NT 10.0; Win64; x64; rv:109.0) Gecko/20100101 Firefox/111.0,gzip(gfe)\\r\\nAccept: */*\\r\\nAccept-Encoding: gzip, deflate, br,gzip(gfe)\\r\\nAccept-Language: es-ES,es;q=0.8,en-US;q=0.5,en;q=0.3\\r\\nReferer: https://colab.research.google.com/\\r\\nSec-Fetch-Dest: empty\\r\\nSec-Fetch-Mode: cors\\r\\nSec-Fetch-Site: same-origin\\r\\nTe: trailers\\r\\n\\r\\n'\n",
            "\n",
            "None\n",
            "\n",
            "Data:\n",
            "###[ Raw ]### \n",
            "  load      = 'GET /socket.io/?EIO=3&sid=R_PmmLqmwiabq0EaAAAA&t=OU89SGQ&transport=polling HTTP/1.1\\r\\nHost: colab.research.google.com\\r\\nUser-Agent: Mozilla/5.0 (Windows NT 10.0; Win64; x64; rv:109.0) Gecko/20100101 Firefox/111.0,gzip(gfe)\\r\\nAccept: */*\\r\\nAccept-Encoding: gzip, deflate, br,gzip(gfe)\\r\\nAccept-Language: es-ES,es;q=0.8,en-US;q=0.5,en;q=0.3\\r\\nReferer: https://colab.research.google.com/\\r\\nSec-Fetch-Dest: empty\\r\\nSec-Fetch-Mode: cors\\r\\nSec-Fetch-Site: same-origin\\r\\nTe: trailers\\r\\n\\r\\n'\n",
            "\n",
            "None\n",
            "\n"
          ]
        }
      ]
    },
    {
      "cell_type": "markdown",
      "source": [
        "### Tipos de datos"
      ],
      "metadata": {
        "id": "aTVdyN1o0-v3"
      }
    },
    {
      "cell_type": "code",
      "source": [
        "from scapy.layers.l2 import Ether\n",
        "from scapy.layers.inet import IP\n",
        "from scapy.layers.inet import TCP, UDP\n",
        "\n",
        "#datos\n",
        "print(type(e_frame))\n",
        "print(type(ip_paquete))\n",
        "print(type(segmento))\n",
        "print()\n",
        "\n",
        "ethernet_type = type(e_frame)\n",
        "ip_type = type(ip_paquete)\n",
        "tcp_type = type(segmento)\n",
        "\n",
        "#por segmentos\n",
        "print(\"Ethernet\",pcap[ethernet_type])\n",
        "print()\n",
        "print(\"IP\", pcap[ip_type])\n",
        "print()\n",
        "print(\"TCP\", pcap[tcp_type])\n",
        "print()\n",
        "print(\"UDP\", pcap[UDP])"
      ],
      "metadata": {
        "colab": {
          "base_uri": "https://localhost:8080/"
        },
        "id": "R5kjLHir03Xa",
        "outputId": "6662e23f-1612-42ac-c986-762640d10220"
      },
      "execution_count": 8,
      "outputs": [
        {
          "output_type": "stream",
          "name": "stdout",
          "text": [
            "<class 'scapy.layers.l2.Ether'>\n",
            "<class 'scapy.layers.inet.IP'>\n",
            "<class 'scapy.layers.inet.TCP'>\n",
            "\n",
            "Ethernet <Ether from Sniffed: TCP:100 UDP:0 ICMP:0 Other:0>\n",
            "\n",
            "IP <IP from Sniffed: TCP:100 UDP:0 ICMP:0 Other:0>\n",
            "\n",
            "TCP <TCP from Sniffed: TCP:100 UDP:0 ICMP:0 Other:0>\n",
            "\n",
            "UDP <UDP from Sniffed: TCP:0 UDP:0 ICMP:0 Other:0>\n"
          ]
        }
      ]
    },
    {
      "cell_type": "markdown",
      "source": [
        "### Preparacion data set"
      ],
      "metadata": {
        "id": "GxCz9vzaMReM"
      }
    },
    {
      "cell_type": "code",
      "source": [
        "#IP/TCP/UDP como columnas\n",
        "ip_column = [field.name for field in IP().fields_desc]\n",
        "tcp_column = [field.name for field in TCP().fields_desc]\n",
        "udp_column = [field.name for field in UDP().fields_desc]\n",
        "\n",
        "#Conquetanar los campos\n",
        "dataframe_column = ip_column + ['time'] + tcp_column + ['payload','payload_raw','payload_hex']\n",
        "\n",
        "# Creacion de data set\n",
        "df = pd.DataFrame(columns=dataframe_column)\n",
        "for packet in pcap[IP]:\n",
        "    field_val = []\n",
        "    for field in ip_column:\n",
        "        if field == 'options':\n",
        "            field_val.append(len(packet[IP].fields[field]))\n",
        "        else:\n",
        "            field_val.append(packet[IP].fields[field])\n",
        "    \n",
        "    field_val.append(packet.time)\n",
        "    \n",
        "    layer_type = type(packet[IP].payload)\n",
        "    for field in tcp_column:\n",
        "        try:\n",
        "            if field == 'options':\n",
        "                field_val.append(len(packet[layer_type].fields[field]))\n",
        "            else:\n",
        "                field_val.append(packet[layer_type].fields[field])\n",
        "        except:\n",
        "            field_val.append(None)\n",
        "    \n",
        "    #payload\n",
        "    field_val.append(len(packet[layer_type].payload))\n",
        "    field_val.append(packet[layer_type].payload.original)\n",
        "    field_val.append(binascii.hexlify(packet[layer_type].payload.original))\n",
        "\n",
        "    df_append = pd.DataFrame([field_val], columns=dataframe_column)\n",
        "    df = pd.concat([df, df_append], axis=0)\n",
        "\n",
        "df = df.reset_index()\n",
        "df = df.drop(columns=\"index\")\n",
        "\n",
        "#head data set\n",
        "print(df.head(3))"
      ],
      "metadata": {
        "colab": {
          "base_uri": "https://localhost:8080/"
        },
        "id": "TEVQYTSaMR5i",
        "outputId": "6cf584eb-6230-4518-cbc2-112b7148b586"
      },
      "execution_count": 11,
      "outputs": [
        {
          "output_type": "stream",
          "name": "stdout",
          "text": [
            "  version ihl tos   len     id flags frag ttl proto chksum  ... dataofs  \\\n",
            "0       4   5   0   522  39575    DF    0  64     6  17937  ...       8   \n",
            "1       4   5   0    52  65360    DF    0  64     6  58157  ...       8   \n",
            "2       4   5   0  1501  65361    DF    0  64     6  56707  ...       8   \n",
            "\n",
            "  reserved flags  window chksum urgptr options payload  \\\n",
            "0        0    PA     501  23106      0       3     470   \n",
            "1        0     A     501  22636      0       3       0   \n",
            "2        0    PA     501  24085      0       3    1449   \n",
            "\n",
            "                                         payload_raw  \\\n",
            "0  b'GET /socket.io/?EIO=3&sid=R_PmmLqmwiabq0EaAA...   \n",
            "1                                                b''   \n",
            "2  b'HTTP/1.1 200 OK\\r\\nContent-Type: text/plain;...   \n",
            "\n",
            "                                         payload_hex  \n",
            "0  b'474554202f736f636b65742e696f2f3f45494f3d3326...  \n",
            "1                                                b''  \n",
            "2  b'485454502f312e3120323030204f4b0d0a436f6e7465...  \n",
            "\n",
            "[3 rows x 28 columns]\n"
          ]
        }
      ]
    },
    {
      "cell_type": "code",
      "source": [
        "df[['src','dst','sport','dport']]"
      ],
      "metadata": {
        "colab": {
          "base_uri": "https://localhost:8080/",
          "height": 424
        },
        "id": "iKV9KwKDOQCI",
        "outputId": "f389d1d5-29fe-478c-98cb-4da14afb7a4b"
      },
      "execution_count": 15,
      "outputs": [
        {
          "output_type": "execute_result",
          "data": {
            "text/plain": [
              "            src          dst  sport  dport\n",
              "0    172.28.0.1  172.28.0.12  34096   8080\n",
              "1   172.28.0.12   172.28.0.1   8080  34096\n",
              "2   172.28.0.12   172.28.0.1   8080  34096\n",
              "3    172.28.0.1  172.28.0.12  34096   8080\n",
              "4    172.28.0.1  172.28.0.12  34096   8080\n",
              "..          ...          ...    ...    ...\n",
              "95  172.28.0.12   172.28.0.1   8080  45808\n",
              "96   172.28.0.1  172.28.0.12  45808   8080\n",
              "97  172.28.0.12   172.28.0.1   8080  45808\n",
              "98  172.28.0.12   172.28.0.1   8080  45808\n",
              "99  172.28.0.12   172.28.0.1   8080  34096\n",
              "\n",
              "[100 rows x 4 columns]"
            ],
            "text/html": [
              "\n",
              "  <div id=\"df-4488211d-5926-4e92-b446-11e72dfc2803\">\n",
              "    <div class=\"colab-df-container\">\n",
              "      <div>\n",
              "<style scoped>\n",
              "    .dataframe tbody tr th:only-of-type {\n",
              "        vertical-align: middle;\n",
              "    }\n",
              "\n",
              "    .dataframe tbody tr th {\n",
              "        vertical-align: top;\n",
              "    }\n",
              "\n",
              "    .dataframe thead th {\n",
              "        text-align: right;\n",
              "    }\n",
              "</style>\n",
              "<table border=\"1\" class=\"dataframe\">\n",
              "  <thead>\n",
              "    <tr style=\"text-align: right;\">\n",
              "      <th></th>\n",
              "      <th>src</th>\n",
              "      <th>dst</th>\n",
              "      <th>sport</th>\n",
              "      <th>dport</th>\n",
              "    </tr>\n",
              "  </thead>\n",
              "  <tbody>\n",
              "    <tr>\n",
              "      <th>0</th>\n",
              "      <td>172.28.0.1</td>\n",
              "      <td>172.28.0.12</td>\n",
              "      <td>34096</td>\n",
              "      <td>8080</td>\n",
              "    </tr>\n",
              "    <tr>\n",
              "      <th>1</th>\n",
              "      <td>172.28.0.12</td>\n",
              "      <td>172.28.0.1</td>\n",
              "      <td>8080</td>\n",
              "      <td>34096</td>\n",
              "    </tr>\n",
              "    <tr>\n",
              "      <th>2</th>\n",
              "      <td>172.28.0.12</td>\n",
              "      <td>172.28.0.1</td>\n",
              "      <td>8080</td>\n",
              "      <td>34096</td>\n",
              "    </tr>\n",
              "    <tr>\n",
              "      <th>3</th>\n",
              "      <td>172.28.0.1</td>\n",
              "      <td>172.28.0.12</td>\n",
              "      <td>34096</td>\n",
              "      <td>8080</td>\n",
              "    </tr>\n",
              "    <tr>\n",
              "      <th>4</th>\n",
              "      <td>172.28.0.1</td>\n",
              "      <td>172.28.0.12</td>\n",
              "      <td>34096</td>\n",
              "      <td>8080</td>\n",
              "    </tr>\n",
              "    <tr>\n",
              "      <th>...</th>\n",
              "      <td>...</td>\n",
              "      <td>...</td>\n",
              "      <td>...</td>\n",
              "      <td>...</td>\n",
              "    </tr>\n",
              "    <tr>\n",
              "      <th>95</th>\n",
              "      <td>172.28.0.12</td>\n",
              "      <td>172.28.0.1</td>\n",
              "      <td>8080</td>\n",
              "      <td>45808</td>\n",
              "    </tr>\n",
              "    <tr>\n",
              "      <th>96</th>\n",
              "      <td>172.28.0.1</td>\n",
              "      <td>172.28.0.12</td>\n",
              "      <td>45808</td>\n",
              "      <td>8080</td>\n",
              "    </tr>\n",
              "    <tr>\n",
              "      <th>97</th>\n",
              "      <td>172.28.0.12</td>\n",
              "      <td>172.28.0.1</td>\n",
              "      <td>8080</td>\n",
              "      <td>45808</td>\n",
              "    </tr>\n",
              "    <tr>\n",
              "      <th>98</th>\n",
              "      <td>172.28.0.12</td>\n",
              "      <td>172.28.0.1</td>\n",
              "      <td>8080</td>\n",
              "      <td>45808</td>\n",
              "    </tr>\n",
              "    <tr>\n",
              "      <th>99</th>\n",
              "      <td>172.28.0.12</td>\n",
              "      <td>172.28.0.1</td>\n",
              "      <td>8080</td>\n",
              "      <td>34096</td>\n",
              "    </tr>\n",
              "  </tbody>\n",
              "</table>\n",
              "<p>100 rows × 4 columns</p>\n",
              "</div>\n",
              "      <button class=\"colab-df-convert\" onclick=\"convertToInteractive('df-4488211d-5926-4e92-b446-11e72dfc2803')\"\n",
              "              title=\"Convert this dataframe to an interactive table.\"\n",
              "              style=\"display:none;\">\n",
              "        \n",
              "  <svg xmlns=\"http://www.w3.org/2000/svg\" height=\"24px\"viewBox=\"0 0 24 24\"\n",
              "       width=\"24px\">\n",
              "    <path d=\"M0 0h24v24H0V0z\" fill=\"none\"/>\n",
              "    <path d=\"M18.56 5.44l.94 2.06.94-2.06 2.06-.94-2.06-.94-.94-2.06-.94 2.06-2.06.94zm-11 1L8.5 8.5l.94-2.06 2.06-.94-2.06-.94L8.5 2.5l-.94 2.06-2.06.94zm10 10l.94 2.06.94-2.06 2.06-.94-2.06-.94-.94-2.06-.94 2.06-2.06.94z\"/><path d=\"M17.41 7.96l-1.37-1.37c-.4-.4-.92-.59-1.43-.59-.52 0-1.04.2-1.43.59L10.3 9.45l-7.72 7.72c-.78.78-.78 2.05 0 2.83L4 21.41c.39.39.9.59 1.41.59.51 0 1.02-.2 1.41-.59l7.78-7.78 2.81-2.81c.8-.78.8-2.07 0-2.86zM5.41 20L4 18.59l7.72-7.72 1.47 1.35L5.41 20z\"/>\n",
              "  </svg>\n",
              "      </button>\n",
              "      \n",
              "  <style>\n",
              "    .colab-df-container {\n",
              "      display:flex;\n",
              "      flex-wrap:wrap;\n",
              "      gap: 12px;\n",
              "    }\n",
              "\n",
              "    .colab-df-convert {\n",
              "      background-color: #E8F0FE;\n",
              "      border: none;\n",
              "      border-radius: 50%;\n",
              "      cursor: pointer;\n",
              "      display: none;\n",
              "      fill: #1967D2;\n",
              "      height: 32px;\n",
              "      padding: 0 0 0 0;\n",
              "      width: 32px;\n",
              "    }\n",
              "\n",
              "    .colab-df-convert:hover {\n",
              "      background-color: #E2EBFA;\n",
              "      box-shadow: 0px 1px 2px rgba(60, 64, 67, 0.3), 0px 1px 3px 1px rgba(60, 64, 67, 0.15);\n",
              "      fill: #174EA6;\n",
              "    }\n",
              "\n",
              "    [theme=dark] .colab-df-convert {\n",
              "      background-color: #3B4455;\n",
              "      fill: #D2E3FC;\n",
              "    }\n",
              "\n",
              "    [theme=dark] .colab-df-convert:hover {\n",
              "      background-color: #434B5C;\n",
              "      box-shadow: 0px 1px 3px 1px rgba(0, 0, 0, 0.15);\n",
              "      filter: drop-shadow(0px 1px 2px rgba(0, 0, 0, 0.3));\n",
              "      fill: #FFFFFF;\n",
              "    }\n",
              "  </style>\n",
              "\n",
              "      <script>\n",
              "        const buttonEl =\n",
              "          document.querySelector('#df-4488211d-5926-4e92-b446-11e72dfc2803 button.colab-df-convert');\n",
              "        buttonEl.style.display =\n",
              "          google.colab.kernel.accessAllowed ? 'block' : 'none';\n",
              "\n",
              "        async function convertToInteractive(key) {\n",
              "          const element = document.querySelector('#df-4488211d-5926-4e92-b446-11e72dfc2803');\n",
              "          const dataTable =\n",
              "            await google.colab.kernel.invokeFunction('convertToInteractive',\n",
              "                                                     [key], {});\n",
              "          if (!dataTable) return;\n",
              "\n",
              "          const docLinkHtml = 'Like what you see? Visit the ' +\n",
              "            '<a target=\"_blank\" href=https://colab.research.google.com/notebooks/data_table.ipynb>data table notebook</a>'\n",
              "            + ' to learn more about interactive tables.';\n",
              "          element.innerHTML = '';\n",
              "          dataTable['output_type'] = 'display_data';\n",
              "          await google.colab.output.renderOutput(dataTable, element);\n",
              "          const docLink = document.createElement('div');\n",
              "          docLink.innerHTML = docLinkHtml;\n",
              "          element.appendChild(docLink);\n",
              "        }\n",
              "      </script>\n",
              "    </div>\n",
              "  </div>\n",
              "  "
            ]
          },
          "metadata": {},
          "execution_count": 15
        }
      ]
    },
    {
      "cell_type": "markdown",
      "source": [
        "### Estadisticas "
      ],
      "metadata": {
        "id": "bvTc9gpsOonu"
      }
    },
    {
      "cell_type": "code",
      "source": [
        "#IP de origen mas frecuente?\n",
        "frequent_address = df['src'].describe()['top']\n",
        "\n",
        "\n",
        "# A que IPs les habla la IP mas frecuente\n",
        "print(df[df['src'] == frequent_address]['dst'].unique(),\"\\n\\n\")"
      ],
      "metadata": {
        "colab": {
          "base_uri": "https://localhost:8080/"
        },
        "id": "VvNUNhUEO0p5",
        "outputId": "4f603020-e6ff-4bb7-caa4-e5013ad8fa37"
      },
      "execution_count": 16,
      "outputs": [
        {
          "output_type": "stream",
          "name": "stdout",
          "text": [
            "['172.28.0.12'] \n",
            "\n",
            "\n"
          ]
        }
      ]
    },
    {
      "cell_type": "code",
      "source": [
        "print(df)"
      ],
      "metadata": {
        "colab": {
          "base_uri": "https://localhost:8080/"
        },
        "id": "GmBl1sJsP1sZ",
        "outputId": "289e0e32-8614-4225-c0fd-84b843b93d5e"
      },
      "execution_count": 17,
      "outputs": [
        {
          "output_type": "stream",
          "name": "stdout",
          "text": [
            "   version ihl tos   len     id flags frag ttl proto chksum  ... dataofs  \\\n",
            "0        4   5   0   522  39575    DF    0  64     6  17937  ...       8   \n",
            "1        4   5   0    52  65360    DF    0  64     6  58157  ...       8   \n",
            "2        4   5   0  1501  65361    DF    0  64     6  56707  ...       8   \n",
            "3        4   5   0    52  39576    DF    0  64     6  18406  ...       8   \n",
            "4        4   5   0   626  39577    DF    0  64     6  17831  ...       8   \n",
            "..     ...  ..  ..   ...    ...   ...  ...  ..   ...    ...  ...     ...   \n",
            "95       4   5   0    52  47307    DF    0  64     6  10675  ...       8   \n",
            "96       4   5   0   364  14972    DF    0  64     6  42698  ...       8   \n",
            "97       4   5   0    52  47308    DF    0  64     6  10674  ...       8   \n",
            "98       4   5   0   337  47309    DF    0  64     6  10388  ...       8   \n",
            "99       4   5   0   364  65378    DF    0  64     6  57827  ...       8   \n",
            "\n",
            "   reserved flags  window chksum urgptr options payload  \\\n",
            "0         0    PA     501  23106      0       3     470   \n",
            "1         0     A     501  22636      0       3       0   \n",
            "2         0    PA     501  24085      0       3    1449   \n",
            "3         0     A     490  22636      0       3       0   \n",
            "4         0    PA     501  23210      0       3     574   \n",
            "..      ...   ...     ...    ...    ...     ...     ...   \n",
            "95        0     A     505  22636      0       3       0   \n",
            "96        0    PA     502  22948      0       3     312   \n",
            "97        0     A     503  22636      0       3       0   \n",
            "98        0    PA     503  22921      0       3     285   \n",
            "99        0    PA     501  22948      0       3     312   \n",
            "\n",
            "                                          payload_raw  \\\n",
            "0   b'GET /socket.io/?EIO=3&sid=R_PmmLqmwiabq0EaAA...   \n",
            "1                                                 b''   \n",
            "2   b'HTTP/1.1 200 OK\\r\\nContent-Type: text/plain;...   \n",
            "3                                                 b''   \n",
            "4   b'POST /socket.io/?EIO=3&sid=R_PmmLqmwiabq0EaA...   \n",
            "..                                                ...   \n",
            "95                                                b''   \n",
            "96  b'308:42/python-lsp/10,[\"data\",{\"data\":\"{\\\\\"me...   \n",
            "97                                                b''   \n",
            "98  b'HTTP/1.1 200 OK\\r\\nContent-Type: text/html\\r...   \n",
            "99  b'HTTP/1.1 200 OK\\r\\nContent-Type: text/plain;...   \n",
            "\n",
            "                                          payload_hex  \n",
            "0   b'474554202f736f636b65742e696f2f3f45494f3d3326...  \n",
            "1                                                 b''  \n",
            "2   b'485454502f312e3120323030204f4b0d0a436f6e7465...  \n",
            "3                                                 b''  \n",
            "4   b'504f5354202f736f636b65742e696f2f3f45494f3d33...  \n",
            "..                                                ...  \n",
            "95                                                b''  \n",
            "96  b'3330383a34322f707974686f6e2d6c73702f31302c5b...  \n",
            "97                                                b''  \n",
            "98  b'485454502f312e3120323030204f4b0d0a436f6e7465...  \n",
            "99  b'485454502f312e3120323030204f4b0d0a436f6e7465...  \n",
            "\n",
            "[100 rows x 28 columns]\n"
          ]
        }
      ]
    },
    {
      "cell_type": "code",
      "source": [
        "from google.colab import files\n",
        "\n",
        "df.to_csv('paquetes.csv', encoding = 'utf-8-sig') \n",
        "files.download('paquetes.csv')"
      ],
      "metadata": {
        "colab": {
          "base_uri": "https://localhost:8080/",
          "height": 17
        },
        "id": "XW3zaQihP7Ty",
        "outputId": "141cfddb-924b-47c1-f5a3-434e0a6fd179"
      },
      "execution_count": 18,
      "outputs": [
        {
          "output_type": "display_data",
          "data": {
            "text/plain": [
              "<IPython.core.display.Javascript object>"
            ],
            "application/javascript": [
              "\n",
              "    async function download(id, filename, size) {\n",
              "      if (!google.colab.kernel.accessAllowed) {\n",
              "        return;\n",
              "      }\n",
              "      const div = document.createElement('div');\n",
              "      const label = document.createElement('label');\n",
              "      label.textContent = `Downloading \"${filename}\": `;\n",
              "      div.appendChild(label);\n",
              "      const progress = document.createElement('progress');\n",
              "      progress.max = size;\n",
              "      div.appendChild(progress);\n",
              "      document.body.appendChild(div);\n",
              "\n",
              "      const buffers = [];\n",
              "      let downloaded = 0;\n",
              "\n",
              "      const channel = await google.colab.kernel.comms.open(id);\n",
              "      // Send a message to notify the kernel that we're ready.\n",
              "      channel.send({})\n",
              "\n",
              "      for await (const message of channel.messages) {\n",
              "        // Send a message to notify the kernel that we're ready.\n",
              "        channel.send({})\n",
              "        if (message.buffers) {\n",
              "          for (const buffer of message.buffers) {\n",
              "            buffers.push(buffer);\n",
              "            downloaded += buffer.byteLength;\n",
              "            progress.value = downloaded;\n",
              "          }\n",
              "        }\n",
              "      }\n",
              "      const blob = new Blob(buffers, {type: 'application/binary'});\n",
              "      const a = document.createElement('a');\n",
              "      a.href = window.URL.createObjectURL(blob);\n",
              "      a.download = filename;\n",
              "      div.appendChild(a);\n",
              "      a.click();\n",
              "      div.remove();\n",
              "    }\n",
              "  "
            ]
          },
          "metadata": {}
        },
        {
          "output_type": "display_data",
          "data": {
            "text/plain": [
              "<IPython.core.display.Javascript object>"
            ],
            "application/javascript": [
              "download(\"download_0b7ccb60-cb7c-4f29-aef7-d288d32ff38c\", \"paquetes.csv\", 87332)"
            ]
          },
          "metadata": {}
        }
      ]
    }
  ]
}